{
 "cells": [
  {
   "cell_type": "code",
   "execution_count": 1,
   "id": "bff19982-7b86-4d77-8aea-63975ac25bc7",
   "metadata": {},
   "outputs": [],
   "source": [
    "import numpy as np\n",
    "import matplotlib.pyplot as plt\n",
    "from scipy.optimize import linprog"
   ]
  },
  {
   "cell_type": "markdown",
   "id": "5040b18a-ca14-4a3a-bd9b-0117e7392ccc",
   "metadata": {},
   "source": [
    "## Scipy linprog example:"
   ]
  },
  {
   "cell_type": "markdown",
   "id": "d5149ed7-2fcd-41a8-8ec0-5835a95b9df3",
   "metadata": {},
   "source": [
    "```python\n",
    "scipy.optimize.linprog(c, A_ub=None, b_ub=None, A_eq=None, b_eq=None, bounds=None, method='highs', callback=None, options=None, x0=None, integrality=None)\n",
    "```"
   ]
  },
  {
   "cell_type": "markdown",
   "id": "027dddd3-3b16-4df4-95e7-47c84bdb2f66",
   "metadata": {},
   "source": [
    "minimize: c @ x \\\n",
    "such that: \\\n",
    "A_ub @ x <= b_ub \\\n",
    "A_eq @ x == b_eq \\\n",
    "lb <= x <= ub"
   ]
  },
  {
   "cell_type": "markdown",
   "id": "4f61e2e3-6ca3-4fd8-b7d5-59ddc1421808",
   "metadata": {},
   "source": [
    "Consider the following example: \\\n",
    "$$ \\text{min}_{x_0, x_1} -x_0 + 4x_1$$\n",
    "such that: \\\n",
    "$$\n",
    "\\begin{align}\n",
    "-3x_0 +x_1 & \\leq 6 \\\\ \n",
    "-x_0 -2X_1 & \\geq -4 \\\\\n",
    "x_1 & \\geq -3\n",
    "\\end{align}\n",
    "$$\n",
    "\n",
    "linprog excepts the greater then in line two to be a less then, we can achieve this by multiplying both sides by $-1$.\n",
    "\n",
    "$$\n",
    "\\begin{align}\n",
    "-3x_0 + x_1 & \\leq 6 \\\\ \n",
    "x_0 + 2X_1 & \\leq 4 \\\\\n",
    "x_1 & \\geq -3\n",
    "\\end{align}\n",
    "$$\n",
    "\n",
    "Input for linprog then looks like this:"
   ]
  },
  {
   "cell_type": "code",
   "execution_count": 2,
   "id": "5add4264-0ab9-4276-882c-d9ef47ecf388",
   "metadata": {},
   "outputs": [],
   "source": [
    "c = [-1, 4]\n",
    "A = [[-3, 1], [1, 2]]\n",
    "b = [6, 4]\n",
    "x0_bounds = (None, None)\n",
    "x1_bounds = (-3, None)"
   ]
  },
  {
   "cell_type": "markdown",
   "id": "58b0ff29-94f5-4286-a046-01f2730348e7",
   "metadata": {},
   "source": [
    "Minimization condition c has $-1$ for $x_0$ and $4$ for $x_1$.\n",
    "Matrix A has the form of the factors before our minimization parameters:\n",
    "$$\n",
    "\\begin{align}\n",
    "A = \\begin{pmatrix}\n",
    "-3 & 1 \\\\\n",
    "1 & 2 \n",
    "\\end{pmatrix}.\n",
    "\\end{align}\n",
    "$$\n",
    "Target vector b is $(6,4)$ the limits of our inequalities.\n",
    "The bounds are only limited by the condition of $x_1$ be larger then -3, all other bounds are infinite, so explicitly called as None!"
   ]
  },
  {
   "cell_type": "code",
   "execution_count": 3,
   "id": "ccb1a84b-29f3-40b5-a17e-ff2eb61d7bd6",
   "metadata": {},
   "outputs": [
    {
     "data": {
      "text/plain": [
       "array([10., -3.])"
      ]
     },
     "execution_count": 3,
     "metadata": {},
     "output_type": "execute_result"
    }
   ],
   "source": [
    "res = linprog(c, A_ub=A, b_ub=b, bounds=[x0_bounds, x1_bounds], integrality=[1])\n",
    "res.x"
   ]
  },
  {
   "cell_type": "markdown",
   "id": "7d2b9c21-4ffc-4bd3-bc3a-5b3990726f87",
   "metadata": {},
   "source": [
    "Optimisation result shows that one optimal set of values is: \\\n",
    "$x_0 = 10$ and $x_1 = -3$. \n"
   ]
  },
  {
   "cell_type": "code",
   "execution_count": 4,
   "id": "7e867469-8a49-4e97-aff7-68ed017aa444",
   "metadata": {},
   "outputs": [
    {
     "data": {
      "text/plain": [
       "-22.0"
      ]
     },
     "execution_count": 4,
     "metadata": {},
     "output_type": "execute_result"
    }
   ],
   "source": [
    "res.fun"
   ]
  },
  {
   "cell_type": "markdown",
   "id": "ad094fce-fb9b-4eb9-9f18-9059034d03bb",
   "metadata": {},
   "source": [
    "The optimal function value for our condition:\n",
    "$$ \\text{min}_{x_0, x_1} -x_0 + 4x_1,$$\n",
    "is $-10 + 4 \\cdot -3 = -22$.\n"
   ]
  },
  {
   "cell_type": "code",
   "execution_count": 5,
   "id": "2480810a-6d9d-418c-8f89-4698a1bf014f",
   "metadata": {},
   "outputs": [
    {
     "data": {
      "text/plain": [
       "'Optimization terminated successfully. (HiGHS Status 7: Optimal)'"
      ]
     },
     "execution_count": 5,
     "metadata": {},
     "output_type": "execute_result"
    }
   ],
   "source": [
    "res.message"
   ]
  },
  {
   "cell_type": "code",
   "execution_count": 6,
   "id": "6d684049-064c-4d47-ba82-0ba0fc2d53d3",
   "metadata": {},
   "outputs": [
    {
     "data": {
      "text/plain": [
       " marginals: array([0., 0.])\n",
       "  residual: array([39.,  0.])"
      ]
     },
     "execution_count": 6,
     "metadata": {},
     "output_type": "execute_result"
    }
   ],
   "source": [
    "res.ineqlin"
   ]
  },
  {
   "cell_type": "markdown",
   "id": "516a4363-432a-46cf-ac07-36512f345799",
   "metadata": {},
   "source": [
    "For example, because the marginal associated with the second inequality constraint is -1, we expect the optimal value of the objective function to decrease by eps if we add a small amount eps to the right hand side of the second inequality constraint:"
   ]
  },
  {
   "cell_type": "code",
   "execution_count": 7,
   "id": "1dd94a0f-b035-40c0-a8dd-aeb0ef9e7050",
   "metadata": {},
   "outputs": [
    {
     "data": {
      "text/plain": [
       "-22.05"
      ]
     },
     "execution_count": 7,
     "metadata": {},
     "output_type": "execute_result"
    }
   ],
   "source": [
    "eps = 0.05\n",
    "b[1] += eps\n",
    "linprog(c, A_ub=A, b_ub=b, bounds=[x0_bounds, x1_bounds]).fun"
   ]
  },
  {
   "cell_type": "markdown",
   "id": "cba29162-9956-4517-ad18-d65a6edba031",
   "metadata": {},
   "source": [
    "Also, because the residual on the first inequality constraint is 39, we can decrease the right hand side of the first constraint by 39 without affecting the optimal solution. Such that:\n",
    "\n",
    "$$\n",
    "\\begin{align}\n",
    "-3x_0 + x_1 & \\leq 6 - 39 = -33 \\\\ \n",
    "x_0 + 2X_1 & \\leq 4 \\\\\n",
    "x_1 & \\geq -3\n",
    "\\end{align}\n",
    "$$"
   ]
  },
  {
   "cell_type": "code",
   "execution_count": 8,
   "id": "036f9869-931e-4cfe-b5c4-9e9c526c58bd",
   "metadata": {},
   "outputs": [
    {
     "data": {
      "text/plain": [
       "-22.0"
      ]
     },
     "execution_count": 8,
     "metadata": {},
     "output_type": "execute_result"
    }
   ],
   "source": [
    "b = [6, 4]  # reset to original values\n",
    "b[0] -= 39\n",
    "linprog(c, A_ub=A, b_ub=b, bounds=[x0_bounds, x1_bounds]).fun"
   ]
  },
  {
   "cell_type": "markdown",
   "id": "5577fafb-354f-4047-b26a-a8535135517d",
   "metadata": {},
   "source": [
    "# Basic Linear Programming (LP) 1D example:"
   ]
  },
  {
   "cell_type": "markdown",
   "id": "de826b85-7c0c-4dc5-b3fa-1938f19f89cb",
   "metadata": {},
   "source": [
    "Maximize $z = 3x$ subject to the constraint:\n",
    "$$0 ≤ x ≤ 3.$$\n",
    "\n"
   ]
  },
  {
   "cell_type": "markdown",
   "id": "7d39d928-8223-430a-87b9-9988a81e0340",
   "metadata": {},
   "source": [
    "The feasible region is the line segment from x = 0 to x = 3. The objective function z = 3x increases as x increases, so the optimal solution will be at the upper endpoint of the line segment, which is x = 3. \\\n",
    "The initial feasible solution is x = 0, which is one endpoint of the line segment. The entering variable is x, since it has a positive coefficient in the objective function. The leaving variable is x = 0, since it is the only basic variable, and it must be increased to maintain feasibility while increasing x. Therefore, we pivot by replacing x = 0 with the entering variable x, which gives:\n",
    "$$\n",
    "x ≤ 3\n",
    "$$\n",
    "The new solution is x = 3, which is the optimal solution. Since there is only one variable, there are no further iterations of the algorithm needed."
   ]
  },
  {
   "cell_type": "code",
   "execution_count": 9,
   "id": "42b25798-a6b9-4af1-ad4d-21af3a1fde40",
   "metadata": {},
   "outputs": [
    {
     "data": {
      "image/png": "[encoded data removed]",
      "text/plain": [
       "<Figure size 640x480 with 1 Axes>"
      ]
     },
     "metadata": {},
     "output_type": "display_data"
    }
   ],
   "source": [
    "arte_green_transparent = '#bde5e5ff'\n",
    "arte_red = '#ff0066'\n",
    "arte_primary = '#002244'\n",
    "\n",
    "plt.plot([0,3],[0,0], color=arte_primary, linestyle='--')\n",
    "plt.plot(0,0, '.', color=arte_red, ms=20)\n",
    "plt.plot(3,0, '.', color=arte_red, ms=20)\n",
    "# t.plot(2, 0, 'rx')\n",
    "fig1 = plt.gca()\n",
    "fig1.axes.get_yaxis().set_visible(False)\n",
    "plt.xticks(np.arange(0, 4, 1.0))\n",
    "plt.xlabel('x$_1$')\n",
    "plt.tight_layout()\n",
    "# plt.savefig('1D_example.png', dpi=300)"
   ]
  },
  {
   "cell_type": "markdown",
   "id": "6e77976b-2ec2-482f-8487-836742c21d17",
   "metadata": {},
   "source": [
    "# LP Problem 2D:"
   ]
  },
  {
   "cell_type": "markdown",
   "id": "89d00741-adb4-4b99-a46a-2e28f49545ec",
   "metadata": {},
   "source": [
    "Maximize z = 2x1 + 3x2 subject to the constraints:\n",
    "$$\n",
    "\\begin{align}\n",
    "x1 + x2 & ≤ 4 \\\\\n",
    "2x1 + x2 & ≤ 5 \\\\\n",
    "x1, x2 & ≥ 0\n",
    "\\end{align}\n",
    "$$"
   ]
  },
  {
   "cell_type": "markdown",
   "id": "88b3d7a5-188d-439e-9eb8-6f04bd7d5664",
   "metadata": {},
   "source": [
    "Rephrase as minimization problem for linprog: \\\n",
    "Minimize z = -2x1 + -3x2 subject to the constraints:\n",
    "$$\n",
    "\\begin{align}\n",
    "x1 + x2 & ≤ 4 \\\\\n",
    "2x1 + x2 & ≤ 5 \\\\\n",
    "x1, x2 & ≥ 0\n",
    "\\end{align}\n",
    "$$"
   ]
  },
  {
   "cell_type": "code",
   "execution_count": 10,
   "id": "6772fac4-f883-4f18-b0bd-0aaf51a60d08",
   "metadata": {},
   "outputs": [],
   "source": [
    "c = [-2, -3]\n",
    "A = [[1, 1], [2, 1]]\n",
    "b = [4, 5]\n",
    "x0_bounds = (0, None)\n",
    "x1_bounds = (0, None)"
   ]
  },
  {
   "cell_type": "code",
   "execution_count": 11,
   "id": "7b0b2ca2-6104-4335-84e4-f22e2b81929b",
   "metadata": {},
   "outputs": [
    {
     "data": {
      "text/plain": [
       "array([0., 4.])"
      ]
     },
     "execution_count": 11,
     "metadata": {},
     "output_type": "execute_result"
    }
   ],
   "source": [
    "res = linprog(c, A_ub=A, b_ub=b, bounds=[x0_bounds, x1_bounds])\n",
    "res.x"
   ]
  },
  {
   "cell_type": "code",
   "execution_count": 12,
   "id": "de75f926-0996-4280-a1db-0c0e54349928",
   "metadata": {},
   "outputs": [
    {
     "data": {
      "text/plain": [
       "-12.0"
      ]
     },
     "execution_count": 12,
     "metadata": {},
     "output_type": "execute_result"
    }
   ],
   "source": [
    "res.fun"
   ]
  },
  {
   "cell_type": "code",
   "execution_count": 13,
   "id": "ed7ffe18-340d-4603-9df9-bd51532cca4e",
   "metadata": {},
   "outputs": [
    {
     "data": {
      "text/plain": [
       "'Optimization terminated successfully. (HiGHS Status 7: Optimal)'"
      ]
     },
     "execution_count": 13,
     "metadata": {},
     "output_type": "execute_result"
    }
   ],
   "source": [
    "res.message"
   ]
  },
  {
   "cell_type": "code",
   "execution_count": 14,
   "id": "8db68f78-209b-4d59-946e-0335d3b80187",
   "metadata": {},
   "outputs": [
    {
     "data": {
      "text/plain": [
       " marginals: array([-3., -0.])\n",
       "  residual: array([0., 1.])"
      ]
     },
     "execution_count": 14,
     "metadata": {},
     "output_type": "execute_result"
    }
   ],
   "source": [
    "res.ineqlin"
   ]
  },
  {
   "cell_type": "code",
   "execution_count": 15,
   "id": "13670336-e1cb-4674-9450-eff97f912986",
   "metadata": {},
   "outputs": [
    {
     "data": {
      "image/png": "[encoded data removed]",
      "text/plain": [
       "<Figure size 640x480 with 1 Axes>"
      ]
     },
     "metadata": {},
     "output_type": "display_data"
    }
   ],
   "source": [
    "arte_green_transparent = '#bde5e5ff'\n",
    "arte_red = '#ff0066'\n",
    "arte_primary = '#002244'\n",
    "\n",
    "plt.plot([0, 4],[4, 0], color=arte_primary, linestyle='--')\n",
    "plt.plot([0, 2.5],[5, 0], color=arte_primary, linestyle='--')\n",
    "\n",
    "plt.fill_between([0,1], [4,3], [0,0], color=arte_green_transparent, alpha=0.5, linewidth=0)\n",
    "plt.fill_between([1,2.5], [3,0], [0,0], color=arte_green_transparent, alpha=0.5, linewidth=0)\n",
    "plt.annotate('feasible region', (1,1), (0.5, 0.5))\n",
    "\n",
    "plt.plot(0, 4, '.', color=arte_red, ms=20)\n",
    "plt.plot(1, 3, '.', color=arte_red, ms=20)\n",
    "plt.plot(2.5, 0, '.', color=arte_red, ms=20)\n",
    "\n",
    "plt.xlabel('x$_1$')\n",
    "plt.ylabel('x$_2$')\n",
    "plt.tight_layout()\n",
    "# plt.savefig('2D_region.png', dpi=300)"
   ]
  },
  {
   "cell_type": "markdown",
   "id": "5e98a81c-f802-4876-8709-ea212b1fe620",
   "metadata": {},
   "source": [
    "## google Slides Example:\n",
    "Production of Mahagoni Chairs / Tables, \\\n",
    "450 man hours available, \\\n",
    "400 mahagoni Boards, \\\n",
    "Want 4 chairs min for each table! \\\n",
    "Chair: 5 Boards, 10 hours, 45€ profit \\\n",
    "Table: 10 Boards, 15 hours, 80€ profit \\\n",
    "$x1$ = chairs, $x2$ = tables: \\\n",
    "$$\\text{max}_{x_1, x_2}\\ 45\\cdot x_1 + 80\\cdot x_2$$ \\\n",
    "Constraints:  \\\n",
    "$$\n",
    "\\begin{align}\n",
    "3\\cdot x_1 + 10\\cdot x_2 &<= 200 \\\\\n",
    "10\\cdot x_1+15\\cdot x_2 &<= 450 \\\\\n",
    "-4\\cdot x_1 + x_2 &<= 0\n",
    "\\end{align}\n",
    "$$"
   ]
  },
  {
   "cell_type": "code",
   "execution_count": 33,
   "id": "9c569174-e38e-4faf-9492-911578dc71c2",
   "metadata": {},
   "outputs": [
    {
     "data": {
      "text/plain": [
       "           con: array([], dtype=float64)\n",
       " crossover_nit: -1\n",
       "         eqlin:  marginals: array([], dtype=float64)\n",
       "  residual: array([], dtype=float64)\n",
       "           fun: -2125.0\n",
       "       ineqlin:  marginals: array([0., 0., 0.])\n",
       "  residual: array([21.,  0.,  1.])\n",
       "         lower:  marginals: array([0., 0.])\n",
       "  residual: array([33.,  8.])\n",
       "       message: 'Optimization terminated successfully. (HiGHS Status 7: Optimal)'\n",
       "           nit: -1\n",
       "         slack: array([21.,  0.,  1.])\n",
       "        status: 0\n",
       "       success: True\n",
       "         upper:  marginals: array([0., 0.])\n",
       "  residual: array([inf, inf])\n",
       "             x: array([33.,  8.])"
      ]
     },
     "execution_count": 33,
     "metadata": {},
     "output_type": "execute_result"
    }
   ],
   "source": [
    "res = linprog([-45, -80], A_ub= [[3,10], [10,15], [-1,4]], b_ub=[200, 450, 0], integrality=[1,1])\n",
    "res"
   ]
  },
  {
   "cell_type": "markdown",
   "id": "c5a770cd-cd1a-4340-ac55-dad898148bd5",
   "metadata": {},
   "source": [
    "$x1$ = chairs, $x2$ = tables: \\\n",
    "$$\\text{max}_{x_1, x_2}\\ 45\\cdot x_1 + 80\\cdot x_2$$ \\\n",
    "Constraints:  \\\n",
    "$$\n",
    "\\begin{align}\n",
    "3\\cdot x_1 + 10\\cdot x_2 &<= 200 \\\\\n",
    "10\\cdot x_1+15\\cdot x_2 &<= 450 \\\\\n",
    "\\end{align}\n",
    "$$"
   ]
  },
  {
   "cell_type": "code",
   "execution_count": 32,
   "id": "bfdf3ff7-4b95-4125-951f-473b487ad5c4",
   "metadata": {},
   "outputs": [
    {
     "data": {
      "text/plain": [
       "           con: array([], dtype=float64)\n",
       " crossover_nit: -1\n",
       "         eqlin:  marginals: array([], dtype=float64)\n",
       "  residual: array([], dtype=float64)\n",
       "           fun: -2150.0\n",
       "       ineqlin:  marginals: array([0., 0.])\n",
       "  residual: array([10.,  0.])\n",
       "         lower:  marginals: array([0., 0.])\n",
       "  residual: array([30., 10.])\n",
       "       message: 'Optimization terminated successfully. (HiGHS Status 7: Optimal)'\n",
       "           nit: -1\n",
       "         slack: array([10.,  0.])\n",
       "        status: 0\n",
       "       success: True\n",
       "         upper:  marginals: array([0., 0.])\n",
       "  residual: array([inf, inf])\n",
       "             x: array([30., 10.])"
      ]
     },
     "execution_count": 32,
     "metadata": {},
     "output_type": "execute_result"
    }
   ],
   "source": [
    "res = linprog([-45, -80], A_ub= [[3,10], [10,15]], b_ub=[200, 450], integrality=[1,1])\n",
    "res"
   ]
  },
  {
   "cell_type": "code",
   "execution_count": 42,
   "id": "5685c8f2-d465-49ab-a824-e6802583299d",
   "metadata": {},
   "outputs": [
    {
     "data": {
      "image/png": "[encoded data removed]",
      "text/plain": [
       "<Figure size 640x480 with 1 Axes>"
      ]
     },
     "metadata": {},
     "output_type": "display_data"
    }
   ],
   "source": [
    "plt.plot([0, 200/3],[20, 0], color=arte_primary, linestyle='--')\n",
    "plt.plot([0, 45],[30, 0], color=arte_primary, linestyle='--')\n",
    "plt.plot([0, 44],[0, 11], color=arte_red, linestyle='--')\n",
    "\n",
    "plt.fill_between([0, 32.727], [0, 8.182], color=arte_green_transparent, alpha=0.5, linewidth=0)\n",
    "# plt.fill_between([400/13, 37.5], [100/13, 5], color=arte_green_transparent, alpha=0.5, linewidth=0)\n",
    "plt.fill_between([32.727, 45], [8.182, 0], color=arte_green_transparent, alpha=0.5, linewidth=0)\n",
    "plt.annotate('feasible region', (20,3), (20, 3))\n",
    "\n",
    "plt.plot(33, 8, '.', color=arte_red, ms=20)\n",
    "#plt.plot(400/13, 100/13, '.', color=arte_red, ms=20)\n",
    "# plt.plot(31, 7, '.', color=arte_red, ms=20)\n",
    "\n",
    "\n",
    "plt.xlabel('x$_1$')\n",
    "plt.ylabel('x$_2$')\n",
    "plt.tight_layout()\n",
    "# plt.savefig('2D_region_example.png', dpi=300)"
   ]
  },
  {
   "cell_type": "code",
   "execution_count": null,
   "id": "eaaf1731-b8aa-4b66-80f6-dc29ed9fb220",
   "metadata": {},
   "outputs": [],
   "source": []
  }
 ],
 "metadata": {
  "kernelspec": {
   "display_name": "Python 3 (ipykernel)",
   "language": "python",
   "name": "python3"
  },
  "language_info": {
   "codemirror_mode": {
    "name": "ipython",
    "version": 3
   },
   "file_extension": ".py",
   "mimetype": "text/x-python",
   "name": "python",
   "nbconvert_exporter": "python",
   "pygments_lexer": "ipython3",
   "version": "3.10.8"
  }
 },
 "nbformat": 4,
 "nbformat_minor": 5
}
